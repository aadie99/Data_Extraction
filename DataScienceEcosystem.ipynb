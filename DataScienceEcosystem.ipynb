{
 "cells": [
  {
   "cell_type": "markdown",
   "id": "b185d667-46df-442c-a391-44fc445a6cc8",
   "metadata": {},
   "source": [
    "# Data Science Tools and Ecosystem"
   ]
  },
  {
   "cell_type": "markdown",
   "id": "4dda03e8-4da5-4223-8823-ab0435a5f8ba",
   "metadata": {},
   "source": [
    "In this notebook, Data Science Tools and Ecosystem are summarized."
   ]
  },
  {
   "cell_type": "markdown",
   "id": "1f060e79-a562-4ccc-a51d-d75b2ff08cf4",
   "metadata": {},
   "source": [
    "Some of the popular languages that Data Scientists use are:\n"
   ]
  },
  {
   "cell_type": "markdown",
   "id": "a1d63015-9d9d-40a1-b3c9-54fac51c68cb",
   "metadata": {},
   "source": [
    "1. Python\n",
    "2. R programming\n",
    "3. SQL"
   ]
  },
  {
   "cell_type": "markdown",
   "id": "455c650d-45b1-4f1e-a331-bb60153cc4b1",
   "metadata": {},
   "source": [
    "Some of the commonly used libraries used by Data Scientists include:"
   ]
  },
  {
   "cell_type": "markdown",
   "id": "2c393a73-ece3-44c0-8a95-eb20cee4a643",
   "metadata": {},
   "source": [
    "1. Numpy\n",
    "2. Pandas\n",
    "3. Matplotlib\n",
    "4. Seaborn"
   ]
  },
  {
   "cell_type": "markdown",
   "id": "583f447a-1907-4ce4-9046-47f51164a538",
   "metadata": {},
   "source": [
    "| Data Science Tools |\n",
    "|--------------------|\n",
    "|Jupyter Notebook|\n",
    "|Apache Spark|\n",
    "|Apache Hadoop|\n"
   ]
  },
  {
   "cell_type": "markdown",
   "id": "be63daff-021c-46bf-bff7-4fe312acfaad",
   "metadata": {},
   "source": [
    "### Below are a few examples of evaluating arithmetic expressions in Python"
   ]
  },
  {
   "cell_type": "code",
   "execution_count": 7,
   "id": "f0235682-9f31-4bcc-9ad5-d308b0277be0",
   "metadata": {},
   "outputs": [
    {
     "data": {
      "text/plain": [
       "17"
      ]
     },
     "execution_count": 7,
     "metadata": {},
     "output_type": "execute_result"
    }
   ],
   "source": [
    "#This a simple arithmetic expression to mutiply then add integers\n",
    "(3*4)+5"
   ]
  },
  {
   "cell_type": "code",
   "execution_count": 11,
   "id": "59923a9c-2042-431b-9dca-41b6ee661c97",
   "metadata": {},
   "outputs": [
    {
     "name": "stdout",
     "output_type": "stream",
     "text": [
      "3.3333333333333335\n"
     ]
    }
   ],
   "source": [
    "#This will convert 200 minutes to hours by diving by 60\n",
    "# minutes = 200\n",
    "# hours = minutes / 60\n",
    "hours = 200 / 60\n",
    "print(hours)\n"
   ]
  },
  {
   "cell_type": "markdown",
   "id": "36c04ace-bb2b-40d4-bc7b-1972a7ff461d",
   "metadata": {},
   "source": [
    "**Objectives:**"
   ]
  },
  {
   "cell_type": "markdown",
   "id": "8d49b7fc-d211-4611-af12-1c4284940f31",
   "metadata": {},
   "source": [
    "- List popular languages used in Data Science\n",
    "- List commonly used libraries used by Data Scientists\n",
    "- Convert 200 minutes to hours"
   ]
  },
  {
   "cell_type": "markdown",
   "id": "79358350-029e-42a5-8a2c-f8b9f10e7c48",
   "metadata": {},
   "source": [
    "## Author ##"
   ]
  },
  {
   "cell_type": "code",
   "execution_count": null,
   "id": "3c685c41-0cda-40c3-b066-86b3be24df16",
   "metadata": {},
   "outputs": [],
   "source": [
    "Aditya Tathe"
   ]
  }
 ],
 "metadata": {
  "kernelspec": {
   "display_name": "Python 3 (ipykernel)",
   "language": "python",
   "name": "python3"
  },
  "language_info": {
   "codemirror_mode": {
    "name": "ipython",
    "version": 3
   },
   "file_extension": ".py",
   "mimetype": "text/x-python",
   "name": "python",
   "nbconvert_exporter": "python",
   "pygments_lexer": "ipython3",
   "version": "3.11.7"
  }
 },
 "nbformat": 4,
 "nbformat_minor": 5
}
